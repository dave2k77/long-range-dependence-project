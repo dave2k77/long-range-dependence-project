{
  "cells": [
    {
      "cell_type": "markdown",
      "id": "aa4f3dc6-5a32-4890-a5fb-1253358f2169",
      "metadata": {},
      "source": [
        "## Overview\n",
        "\n",
        "This tutorial will guide you through setting up and running your first long-range dependence analysis using our comprehensive framework."
      ]
    },
    {
      "cell_type": "markdown",
      "id": "4360086b-627e-4148-a898-1c777e36c9bf",
      "metadata": {},
      "source": [
        "## Prerequisites\n",
        "\n",
        "Before starting, ensure you have:\n",
        "\n",
        "- Python 3.8 or higher\n",
        "- Git\n",
        "- Basic understanding of time series analysis concepts"
      ]
    },
    {
      "cell_type": "markdown",
      "id": "dc7cf858-1d30-4956-8352-2281b44ade1d",
      "metadata": {},
      "source": [
        "## Installation\n",
        "\n",
        "### Step 1: Clone the Repository\n",
        "\n",
        "```\n",
        "git clone https://github.com/dave2k77/long-range-dependence-project.git\n",
        "cd long-range-dependence-project\n",
        "```\n",
        "\n",
        "### Step 2: Create Virtual Environment\n",
        "\n",
        "**On Windows:**\n",
        "\n",
        "```\n",
        "python -m venv fractal-env\n",
        "fractal-env\\Scripts\\activate\n",
        "```\n",
        "\n",
        "**On macOS/Linux:**\n",
        "\n",
        "```\n",
        "python -m venv fractal-env\n",
        "source fractal-env/bin/activate\n",
        "```\n",
        "\n",
        "Step 3: Install Dependencies\n",
        "\n",
        "```\n",
        "pip install -r requirements.txt\n",
        "```\n",
        "\n",
        "### Step 4: Verify Installation\n",
        "\n",
        "```\n",
        "python scripts/demo_synthetic_data.py\n",
        "```\n",
        "\n",
        "If everything is set up correctly, you should see output showing synthetic data generation examples."
      ]
    },
    {
      "cell_type": "markdown",
      "id": "a6b0dbc7-4dfc-46cb-a4f9-63daebfa1780",
      "metadata": {},
      "source": [
        "## Your First Analysis\n",
        "\n",
        "### Step 1: Generate Test Data\n",
        "\n",
        "Let's start by generating some synthetic data to work with:"
      ]
    },
    {
      "cell_type": "code",
      "execution_count": 1,
      "id": "4e361f73-6fb8-450d-bb61-c920d4a29dc6",
      "metadata": {},
      "outputs": [
        {
          "ename": "ModuleNotFoundError",
          "evalue": "No module named 'data_processing'",
          "output_type": "error",
          "traceback": [
            "\u001b[31m---------------------------------------------------------------------------\u001b[39m",
            "\u001b[31mModuleNotFoundError\u001b[39m                       Traceback (most recent call last)",
            "\u001b[36mCell\u001b[39m\u001b[36m \u001b[39m\u001b[32mIn[1]\u001b[39m\u001b[32m, line 5\u001b[39m\n\u001b[32m      2\u001b[39m \u001b[38;5;28;01mfrom\u001b[39;00m\u001b[38;5;250m \u001b[39m\u001b[34;01mpathlib\u001b[39;00m\u001b[38;5;250m \u001b[39m\u001b[38;5;28;01mimport\u001b[39;00m Path\n\u001b[32m      3\u001b[39m sys.path.append(\u001b[38;5;28mstr\u001b[39m(Path.cwd() / \u001b[33m\"\u001b[39m\u001b[33msrc\u001b[39m\u001b[33m\"\u001b[39m))\n\u001b[32m----> \u001b[39m\u001b[32m5\u001b[39m \u001b[38;5;28;01mfrom\u001b[39;00m\u001b[38;5;250m \u001b[39m\u001b[34;01mdata_processing\u001b[39;00m\u001b[34;01m.\u001b[39;00m\u001b[34;01msynthetic_generator\u001b[39;00m\u001b[38;5;250m \u001b[39m\u001b[38;5;28;01mimport\u001b[39;00m SyntheticDataGenerator\n\u001b[32m      7\u001b[39m \u001b[38;5;66;03m# Create a data generator\u001b[39;00m\n\u001b[32m      8\u001b[39m generator = SyntheticDataGenerator(random_state=\u001b[32m42\u001b[39m)\n",
            "\u001b[31mModuleNotFoundError\u001b[39m: No module named 'data_processing'"
          ]
        }
      ],
      "source": [
        "# Fix import issues in notebook",
        "import sys",
        "from pathlib import Path",
        "",
        "# Find project root and add src to path",
        "current_dir = Path.cwd()",
        "project_root = None",
        "",
        "for parent in [current_dir] + list(current_dir.parents):",
        "    if (parent / \"src\").exists() and (parent / \"src\" / \"data_processing\").exists():",
        "        project_root = parent",
        "        break",
        "",
        "if project_root:",
        "    src_path = str(project_root / \"src\")",
        "    if src_path not in sys.path:",
        "        sys.path.insert(0, src_path)",
        "    print(f\"✓ Added {src_path} to Python path\")",
        "    ",
        "    # Now you can import",
        "    from data_processing.synthetic_generator import SyntheticDataGenerator",
        "    print(\"✓ Import successful!\")",
        "    ",
        "    # Create a data generator",
        "    generator = SyntheticDataGenerator(random_state=42)",
        "    ",
        "    # Generate a simple ARFIMA process using the new convenience method",
        "    arfima_signal = generator.generate_arfima(n=1000, d=0.3)",
        "    print(f\"Generated ARFIMA signal with {len(arfima_signal)} points\")",
        "    ",
        "    # You can also generate other types of synthetic data",
        "    fbm_signal = generator.generate_fbm(n=1000, hurst=0.7)",
        "    fgn_signal = generator.generate_fgn(n=1000, hurst=0.6)",
        "    print(f\"Generated fBm signal with {len(fbm_signal)} points\")",
        "    print(f\"Generated fGn signal with {len(fgn_signal)} points\")",
        "else:",
        "    print(\"❌ Could not find project root\")"
      ]
    },
    {
      "cell_type": "code",
      "execution_count": null,
      "id": "989fd5bd-878d-4ce1-98d2-655add1a7479",
      "metadata": {},
      "outputs": [],
      "source": [
        "import data_processing"
      ]
    },
    {
      "cell_type": "code",
      "execution_count": null,
      "id": "4623b3db-0071-413a-bf4a-dbe3f945a0dd",
      "metadata": {},
      "outputs": [],
      "source": []
    }
  ],
  "metadata": {
    "kernelspec": {
      "display_name": "Python 3 (ipykernel)",
      "language": "python",
      "name": "python3"
    },
    "language_info": {
      "codemirror_mode": {
        "name": "ipython",
        "version": 3
      },
      "file_extension": ".py",
      "mimetype": "text/x-python",
      "name": "python",
      "nbconvert_exporter": "python",
      "pygments_lexer": "ipython3",
      "version": "3.12.11"
    }
  },
  "nbformat": 4,
  "nbformat_minor": 5
}