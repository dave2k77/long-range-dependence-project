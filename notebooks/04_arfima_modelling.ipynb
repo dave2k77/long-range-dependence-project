{
  "cells": [
    {
      "cell_type": "markdown",
      "metadata": {},
      "source": [
        "# ARFIMA Modelling Guide\n",
        "\n",
        "This notebook demonstrates how to:\n",
        "- Generate ARFIMA time series\n",
        "- Estimate model order (p, d, q)\n",
        "- Fit the custom ARFIMA model\n",
        "- Inspect diagnostics\n",
        "- Forecast future values\n",
        "- Illustrate fractional differencing\n"
      ]
    },
    {
      "cell_type": "code",
      "execution_count": null,
      "metadata": {},
      "outputs": [],
      "source": [
        "# Imports and setup\n",
        "import os, sys\n",
        "import numpy as np\n",
        "import pandas as pd\n",
        "import matplotlib.pyplot as plt\n",
        "import seaborn as sns\n",
        "\n",
        "# Add src to path\n",
        "sys.path.append(os.path.join(os.getcwd(), 'src'))\n",
        "\n",
        "from analysis.arfima_modelling import ARFIMAModel, estimate_arfima_order, arfima_simulation\n",
        "\n",
        "plt.style.use('seaborn-v0_8')\n",
        "sns.set_palette('husl')\n",
        "os.makedirs('results/figures', exist_ok=True)\n",
        "os.makedirs('results/tables', exist_ok=True)\n"
      ]
    },
    {
      "cell_type": "code",
      "execution_count": null,
      "metadata": {},
      "outputs": [],
      "source": [
        "# 1) Simulate ARFIMA time series and save\n",
        "np.random.seed(42)\n",
        "true_d = 0.3\n",
        "true_ar = np.array([0.5])\n",
        "true_ma = np.array([0.3])\n",
        "\n",
        "series = arfima_simulation(\n",
        "    n=1000,\n",
        "    d=true_d,\n",
        "    ar_params=true_ar,\n",
        "    ma_params=true_ma,\n",
        "    sigma=1.0,\n",
        "    seed=42\n",
        ")\n",
        "\n",
        "print(f\"Generated series length: {len(series)}\")\n",
        "print(f\"True params: d={true_d}, AR={true_ar.tolist()}, MA={true_ma.tolist()}\")\n",
        "\n",
        "pd.DataFrame({'y': series}).to_csv('results/tables/arfima_simulated.csv', index=False)\n",
        "plt.figure(figsize=(12,4))\n",
        "plt.plot(series[:300], lw=1)\n",
        "plt.title('Simulated ARFIMA series (first 300)')\n",
        "plt.xlabel('t'); plt.ylabel('y'); plt.grid(True, alpha=0.3)\n",
        "plt.show()\n"
      ]
    },
    {
      "cell_type": "code",
      "execution_count": null,
      "metadata": {},
      "outputs": [],
      "source": [
        "# 2) Estimate model order (p, d, q)\n",
        "print('Estimating order...')\n",
        "p_est, d_est, q_est = estimate_arfima_order(series, max_p=2, max_q=2, d_values=[0.1,0.2,0.3,0.4])\n",
        "print(f\"Estimated order: ARFIMA({p_est},{d_est:.3f},{q_est})\")\n"
      ]
    },
    {
      "cell_type": "code",
      "execution_count": null,
      "metadata": {},
      "outputs": [],
      "source": [
        "# 3) Fit the ARFIMA model and view summary\n",
        "model = ARFIMAModel(p=p_est, d=d_est, q=q_est)\n",
        "model.fit(series)\n",
        "summary = model.summary()\n",
        "summary\n"
      ]
    },
    {
      "cell_type": "code",
      "execution_count": null,
      "metadata": {},
      "outputs": [],
      "source": [
        "# 4) Diagnostics\n",
        "model.plot_diagnostics()\n"
      ]
    },
    {
      "cell_type": "code",
      "execution_count": null,
      "metadata": {},
      "outputs": [],
      "source": [
        "# 5) Forecast next 50 steps and plot with confidence intervals\n",
        "steps = 50\n",
        "fc, lo, hi = model.forecast(steps=steps, alpha=0.05, interval_method='bootstrap', B=300, seed=42)\n",
        "\n",
        "plt.figure(figsize=(12,5))\n",
        "hist = series[-200:]\n",
        "plt.plot(hist, label='History')\n",
        "# extend x for forecast\n",
        "x_fc = np.arange(len(series), len(series)+steps)\n",
        "plt.plot(x_fc, fc, '--r', label='Forecast (mean)')\n",
        "plt.fill_between(x_fc, lo, hi, color='r', alpha=0.2, label='95% CI')\n",
        "plt.title('Forecast (50 steps) with 95% Confidence Interval')\n",
        "plt.xlabel('t'); plt.ylabel('y'); plt.legend(); plt.grid(True, alpha=0.3)\n",
        "plt.savefig('results/figures/arfima_forecast.png', dpi=300, bbox_inches='tight')\n",
        "plt.show()\n"
      ]
    },
    {
      "cell_type": "code",
      "execution_count": null,
      "metadata": {},
      "outputs": [],
      "source": [
        "# 6) Fractional differencing illustration\n",
        "probe_d = [0.0, 0.2, 0.3, 0.4]\n",
        "plt.figure(figsize=(12,6))\n",
        "for i, d in enumerate(probe_d, start=1):\n",
        "    plt.subplot(2,2,i)\n",
        "    diffed = model._fractional_difference(series, d)\n",
        "    plt.plot(diffed[:200])\n",
        "    plt.title(f'd={d}')\n",
        "    plt.grid(True, alpha=0.3)\n",
        "plt.tight_layout()\n",
        "plt.savefig('results/figures/fracdiff_examples.png', dpi=300, bbox_inches='tight')\n",
        "plt.show()\n"
      ]
    }
  ],
  "metadata": {
    "language_info": {
      "name": "python"
    }
  },
  "nbformat": 4,
  "nbformat_minor": 2
}
